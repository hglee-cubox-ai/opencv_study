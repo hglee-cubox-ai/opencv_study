{
 "cells": [
  {
   "cell_type": "code",
   "execution_count": 25,
   "metadata": {},
   "outputs": [],
   "source": [
    "import IPython\n",
    "import cv2\n",
    "\n",
    "def imshow(img):\n",
    "    _,ret = cv2.imencode('.jpg', img) \n",
    "    i = IPython.display.Image(data=ret)\n",
    "    IPython.display.display(i)"
   ]
  },
  {
   "cell_type": "markdown",
   "metadata": {},
   "source": [
    "## 가장자리 검출\n",
    "밝기가 큰 폭으로 변하는 지점을 감지.  \n",
    "미분과 기울기 연산 등을 수행함. (sobel, laplacian, canny)  \n",
    "단순 변화량 감지이므로 배경과 큰 밝기 차이 등이 없으면 정확도가 떨어질 수 있음."
   ]
  },
  {
   "cell_type": "code",
   "execution_count": 26,
   "metadata": {},
   "outputs": [
    {
     "data": {
      "image/png": "[encoded data removed]",
      "text/plain": [
       "<IPython.core.display.Image object>"
      ]
     },
     "metadata": {},
     "output_type": "display_data"
    }
   ],
   "source": [
    "src = cv2.imread('rectangle.png')\n",
    "src = cv2.resize(src, dsize=(0,0), fx=0.1, fy=0.1)\n",
    "imshow(src)"
   ]
  },
  {
   "cell_type": "code",
   "execution_count": 27,
   "metadata": {},
   "outputs": [
    {
     "data": {
      "image/png": "[encoded data removed]",
      "text/plain": [
       "<IPython.core.display.Image object>"
      ]
     },
     "metadata": {},
     "output_type": "display_data"
    },
    {
     "data": {
      "image/png": "[encoded data removed]",
      "text/plain": [
       "<IPython.core.display.Image object>"
      ]
     },
     "metadata": {},
     "output_type": "display_data"
    },
    {
     "data": {
      "image/png": "[encoded data removed]",
      "text/plain": [
       "<IPython.core.display.Image object>"
      ]
     },
     "metadata": {},
     "output_type": "display_data"
    },
    {
     "data": {
      "image/png": "[encoded data removed]",
      "text/plain": [
       "<IPython.core.display.Image object>"
      ]
     },
     "metadata": {},
     "output_type": "display_data"
    }
   ],
   "source": [
    "gray = cv2.cvtColor(src, cv2.COLOR_BGR2GRAY)\n",
    "\n",
    "sobel = cv2.Sobel(gray, ddepth=cv2.CV_8U, dx=1, dy=0, ksize=3)\n",
    "laplacian = cv2.Laplacian(gray, ddepth=cv2.CV_8U, ksize=3)\n",
    "canny = cv2.Canny(src, threshold1=100, threshold2=255)\n",
    "\n",
    "imshow(src)\n",
    "imshow(sobel)\n",
    "imshow(laplacian)\n",
    "imshow(canny)\n",
    "\n"
   ]
  },
  {
   "cell_type": "markdown",
   "metadata": {},
   "source": [
    "## 다각형 근사"
   ]
  },
  {
   "cell_type": "code",
   "execution_count": 28,
   "metadata": {},
   "outputs": [
    {
     "data": {
      "image/png": "[encoded data removed]",
      "text/plain": [
       "<IPython.core.display.Image object>"
      ]
     },
     "metadata": {},
     "output_type": "display_data"
    }
   ],
   "source": [
    "gray = cv2.cvtColor(src, cv2.COLOR_BGR2GRAY)\n",
    "ret, binary = cv2.threshold(gray, 0, 255, cv2.THRESH_OTSU)\n",
    "binary = cv2.bitwise_not(binary)\n",
    "imshow(binary)"
   ]
  },
  {
   "cell_type": "code",
   "execution_count": 29,
   "metadata": {},
   "outputs": [
    {
     "name": "stdout",
     "output_type": "stream",
     "text": [
      "[array([[[ 84,  29]],\n",
      "\n",
      "       [[ 82,  30]],\n",
      "\n",
      "       [[ 80,  31]],\n",
      "\n",
      "       [[ 73,  35]],\n",
      "\n",
      "       [[ 46,  49]],\n",
      "\n",
      "       [[ 44,  51]],\n",
      "\n",
      "       [[ 39,  53]],\n",
      "\n",
      "       [[ 42,  55]],\n",
      "\n",
      "       [[ 45,  56]],\n",
      "\n",
      "       [[ 47,  58]],\n",
      "\n",
      "       [[ 57,  63]],\n",
      "\n",
      "       [[ 73,  71]],\n",
      "\n",
      "       [[ 81,  76]],\n",
      "\n",
      "       [[ 83,  77]],\n",
      "\n",
      "       [[ 85,  77]],\n",
      "\n",
      "       [[ 90,  74]],\n",
      "\n",
      "       [[ 99,  70]],\n",
      "\n",
      "       [[116,  61]],\n",
      "\n",
      "       [[118,  59]],\n",
      "\n",
      "       [[127,  55]],\n",
      "\n",
      "       [[130,  53]],\n",
      "\n",
      "       [[128,  52]],\n",
      "\n",
      "       [[124,  50]],\n",
      "\n",
      "       [[117,  47]],\n",
      "\n",
      "       [[100,  37]]], dtype=int32)]\n",
      "[[[-1 -1 -1 -1]]]\n"
     ]
    }
   ],
   "source": [
    "contours, hierarchy = cv2.findContours(binary, cv2.RETR_EXTERNAL, cv2.CHAIN_APPROX_TC89_KCOS)\n",
    "print(contours)\n",
    "print(hierarchy)"
   ]
  },
  {
   "cell_type": "code",
   "execution_count": 30,
   "metadata": {},
   "outputs": [
    {
     "name": "stdout",
     "output_type": "stream",
     "text": [
      "approx_poly: [[[ 39  53]]\n",
      "\n",
      " [[ 83  77]]\n",
      "\n",
      " [[130  53]]\n",
      "\n",
      " [[ 84  29]]]\n"
     ]
    },
    {
     "data": {
      "image/png": "[encoded data removed]",
      "text/plain": [
       "<IPython.core.display.Image object>"
      ]
     },
     "metadata": {},
     "output_type": "display_data"
    }
   ],
   "source": [
    "for contour in contours:\n",
    "    epsilon = cv2.arcLength(contour, True) * 0.02\n",
    "    approx_poly = cv2.approxPolyDP(contour, epsilon, True)\n",
    "\n",
    "    print(f'approx_poly: {approx_poly}')\n",
    "\n",
    "    for approx in approx_poly:\n",
    "        cv2.circle(src, tuple(approx[0]), 3, (255, 0, 0), -1)\n",
    "\n",
    "imshow(src)"
   ]
  }
 ],
 "metadata": {
  "kernelspec": {
   "display_name": "Python 3.8.3 ('base')",
   "language": "python",
   "name": "python3"
  },
  "language_info": {
   "codemirror_mode": {
    "name": "ipython",
    "version": 3
   },
   "file_extension": ".py",
   "mimetype": "text/x-python",
   "name": "python",
   "nbconvert_exporter": "python",
   "pygments_lexer": "ipython3",
   "version": "3.8.3"
  },
  "orig_nbformat": 4,
  "vscode": {
   "interpreter": {
    "hash": "1077a7622c94b69f50cf5c06492105ce5624ef58a3c8148028a6737528b07b85"
   }
  }
 },
 "nbformat": 4,
 "nbformat_minor": 2
}
